{
 "cells": [
  {
   "cell_type": "code",
   "execution_count": 21,
   "metadata": {},
   "outputs": [],
   "source": [
    "from itertools import cycle"
   ]
  },
  {
   "cell_type": "code",
   "execution_count": 22,
   "metadata": {},
   "outputs": [],
   "source": [
    "lines = [int(line.rstrip('\\n')) for line in open('input')]"
   ]
  },
  {
   "cell_type": "code",
   "execution_count": 23,
   "metadata": {},
   "outputs": [],
   "source": [
    "total = 0\n",
    "lines = cycle(lines)\n",
    "freqs = []\n",
    "while True:\n",
    "    next_num = next(lines)\n",
    "    total += next_num\n",
    "    if total in freqs:\n",
    "        break\n",
    "    freqs.append(total)"
   ]
  },
  {
   "cell_type": "code",
   "execution_count": 24,
   "metadata": {},
   "outputs": [
    {
     "name": "stdout",
     "output_type": "stream",
     "text": [
      "192\n"
     ]
    }
   ],
   "source": [
    "print(total)"
   ]
  },
  {
   "cell_type": "code",
   "execution_count": 25,
   "metadata": {},
   "outputs": [
    {
     "name": "stdout",
     "output_type": "stream",
     "text": [
      "[-4, 3, 6, 7, -2, -16, 2, -5, -10, -28, -17, -25, -8, -24, -43, -29, -18, -26, -12, 10, 23, 37, 19, 27, 11, 21, 9, 18, -1, -13, -19, -9, -7, -21, -3, 14, 25, 20, 26, 35, 51, 48, 60, 65, 80, 87, 89, 84, 71, 78, 97, 107, 105, 108, 103, 96, 85, 99, 112, 115, 126, 141, 122, 121, 116, 131, 145, 129, 137, 146, 135, 128, 143, 147, 154, 165, 163, 180, 172, 158, 161, 157, 175, 176, 182, 177, 194, 207, 193, 178, 169, 185, 199, 211, 197, 183, 187, 168, 179, 184, 191]\n"
     ]
    }
   ],
   "source": [
    "print(freqs)"
   ]
  },
  {
   "cell_type": "code",
   "execution_count": null,
   "metadata": {},
   "outputs": [],
   "source": []
  }
 ],
 "metadata": {
  "kernelspec": {
   "display_name": "Python 3",
   "language": "python",
   "name": "python3"
  },
  "language_info": {
   "codemirror_mode": {
    "name": "ipython",
    "version": 3
   },
   "file_extension": ".py",
   "mimetype": "text/x-python",
   "name": "python",
   "nbconvert_exporter": "python",
   "pygments_lexer": "ipython3",
   "version": "3.6.5"
  }
 },
 "nbformat": 4,
 "nbformat_minor": 2
}
